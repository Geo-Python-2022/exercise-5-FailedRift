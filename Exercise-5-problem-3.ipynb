{
 "cells": [
  {
   "cell_type": "markdown",
   "metadata": {
    "deletable": false,
    "editable": false,
    "nbgrader": {
     "cell_type": "markdown",
     "checksum": "2190fdba31b6f247358b0af31bbe343e",
     "grade": false,
     "grade_id": "Intro_text",
     "locked": true,
     "schema_version": 3,
     "solution": false
    }
   },
   "source": [
    "## Problem 3 - Data analysis (4 points)\n",
    "\n",
    "In this problem we will explore our temperature data by comparing spring temperatures between Helsinki Kumpula and Rovaniemi. To do this we'll use some conditions to extract subsets of our data and then analyse these subsets using basic pandas functions. Please perform the tasks below by writing your code into the codeblocks in each section.\n",
    "\n",
    "### Tips for completing this problem\n",
    "\n",
    "- Use **exactly** the same variable names as in the instructions because your answers will be automatically graded, and the tests that grade your answers rely on following the same formatting or variable naming as in the instructions.\n",
    "- **Please do not**:\n",
    "\n",
    "    - **Change the file names**. Do all of your editing in the provided `Exercise-5-problem-3.ipynb` file (this file).\n",
    "    - **Copy/paste cells in this notebook**. We use an automated grading system that will fail if there are copies of code cells.\n",
    "    - **Change the existing cell types**. You can add cells, but changing the cell types for existing cells (from code to markdown, for example) will also cause the automated grader to fail. \n",
    "\n",
    "### Scores for this problem\n",
    "\n",
    "**Your score on this problem will be based on following criteria:**\n",
    "\n",
    "- Calculating the median temperatures for Helsinki Kumpula and Rovaniemi for the summer of 2017\n",
    "- Selecting temperatures for May and June 2017 in separate dataframes for each location\n",
    "- Printing out some summary values for each month (May, June) and location (Kumpula, Rovaniemi)\n",
    "- Including comments that explain what most lines in the code do\n",
    "- Answering a couple questions at the end of the problem\n",
    "- Uploading your notebook and data files to your GitHub repository for this week's exercise"
   ]
  },
  {
   "cell_type": "markdown",
   "metadata": {
    "deletable": false,
    "editable": false,
    "nbgrader": {
     "cell_type": "markdown",
     "checksum": "1b6ab534a2cd475117b7d0016c7cf9f3",
     "grade": false,
     "grade_id": "cell-33c2d0518738c711",
     "locked": true,
     "schema_version": 3,
     "solution": false,
     "task": false
    }
   },
   "source": [
    "### Part 1 (0 points)\n",
    "\n",
    "First, you need to load the data from Problem 2.\n",
    "\n",
    "- Read in the csv files generated in Problem 2 to the variables `kumpula` and `rovaniemi`"
   ]
  },
  {
   "cell_type": "code",
   "execution_count": 1,
   "metadata": {
    "deletable": false,
    "nbgrader": {
     "cell_type": "code",
     "checksum": "deb603f4e6e03059689d01f3d8ca3044",
     "grade": false,
     "grade_id": "problem_3_ag_p1_read_data",
     "locked": false,
     "schema_version": 3,
     "solution": true
    },
    "tags": []
   },
   "outputs": [],
   "source": [
    "# import dependencies \n",
    "import pandas as pd\n",
    "\n",
    "#read csvs\n",
    "kumpula = pd.read_csv(\"Kumpula_temps_May_Aug_2017.csv\")\n",
    "rovaniemi = pd.read_csv(\"Rovaniemi_temps_May_Aug_2017.csv\")\n"
   ]
  },
  {
   "cell_type": "code",
   "execution_count": 2,
   "metadata": {
    "tags": []
   },
   "outputs": [
    {
     "name": "stdout",
     "output_type": "stream",
     "text": [
      "   Unnamed: 0   USAF  YR--MODAHRMN  TEMP  MAX  MIN  Celsius\n",
      "0        8770  29980  201705010000  37.0  NaN  NaN        3\n",
      "1        8771  29980  201705010100  37.0  NaN  NaN        3\n",
      "2        8772  29980  201705010200  37.0  NaN  NaN        3\n",
      "3        8773  29980  201705010300  37.0  NaN  NaN        3\n",
      "4        8774  29980  201705010400  39.0  NaN  NaN        4\n",
      "\n",
      "   Unnamed: 0   USAF  YR--MODAHRMN  TEMP  MAX  MIN  Celsius\n",
      "0           0  28450  201705010000  31.0  NaN  NaN       -1\n",
      "1           1  28450  201705010020  30.0  NaN  NaN       -1\n",
      "2           2  28450  201705010050  30.0  NaN  NaN       -1\n",
      "3           3  28450  201705010100  31.0  NaN  NaN       -1\n",
      "4           4  28450  201705010120  30.0  NaN  NaN       -1\n"
     ]
    }
   ],
   "source": [
    "print(kumpula.head())\n",
    "print('')\n",
    "print(rovaniemi.head())"
   ]
  },
  {
   "cell_type": "markdown",
   "metadata": {
    "deletable": false,
    "editable": false,
    "nbgrader": {
     "cell_type": "markdown",
     "checksum": "b74443c30f8df10c1f56cbf265d62a41",
     "grade": false,
     "grade_id": "cell-c25a29efbcf77ee7",
     "locked": true,
     "schema_version": 3,
     "solution": false,
     "task": false
    }
   },
   "source": [
    "### Part 2 (1 points)\n",
    "\n",
    "Next you can find some median temperature values for the period the data covers.\n",
    "\n",
    "- What was the median Celsius temperature during the observed period in:\n",
    "    - Helsinki Kumpula? (store the answer in a variable `kumpula_median`)\n",
    "    - Rovaniemi? (store the answer in a variable `rovaniemi_median`)"
   ]
  },
  {
   "cell_type": "code",
   "execution_count": 3,
   "metadata": {
    "deletable": false,
    "nbgrader": {
     "cell_type": "code",
     "checksum": "975856c4e5d377c3aaabec3af0fe53da",
     "grade": false,
     "grade_id": "problem_3_ag_p2_median",
     "locked": false,
     "schema_version": 3,
     "solution": true
    },
    "tags": []
   },
   "outputs": [],
   "source": [
    "#calculare median\n",
    "kumpula_median = kumpula[\"Celsius\"].median()\n",
    "rovaniemi_median = rovaniemi[\"Celsius\"].median()\n"
   ]
  },
  {
   "cell_type": "code",
   "execution_count": 4,
   "metadata": {
    "deletable": false,
    "editable": false,
    "nbgrader": {
     "cell_type": "code",
     "checksum": "c74731bd13e85d92c4c9c1b77dabc589",
     "grade": true,
     "grade_id": "problem_3_ag_p2_median_test",
     "locked": true,
     "points": 1,
     "schema_version": 3,
     "solution": false
    },
    "tags": []
   },
   "outputs": [
    {
     "name": "stdout",
     "output_type": "stream",
     "text": [
      "Kumpula median: 14.0\n",
      "Rovaniemi median: 11.0\n"
     ]
    }
   ],
   "source": [
    "# Prints the median temperatures\n",
    "print(f\"Kumpula median: {kumpula_median}\")\n",
    "print(f\"Rovaniemi median: {rovaniemi_median}\")\n"
   ]
  },
  {
   "cell_type": "markdown",
   "metadata": {
    "deletable": false,
    "editable": false,
    "nbgrader": {
     "cell_type": "markdown",
     "checksum": "177502bb4ee7abc753b57a16250f3c15",
     "grade": false,
     "grade_id": "cell-6eda08b036b421d9",
     "locked": true,
     "schema_version": 3,
     "solution": false,
     "task": false
    }
   },
   "source": [
    "### Part 3 (2 points)\n",
    "\n",
    "The median temperatures above consider data from the entire summer (May-Aug), hence the differences might not be so clear. Let's now find out the mean temperatures from May and June 2017 in Kumpula and Rovaniemi.\n",
    "\n",
    "- From the `kumpula` and `rovaniemi` DataFrames, select the rows where values of the `YR--MODAHRMN` column are from May 2017\n",
    "    - Assign these selected rows into the variables `kumpula_may` and `rovaniemi_may` (you can check the [hints](https://geo-python.github.io/site/lessons/L5/exercise-5.html) for help!)\n",
    "- Repeat the procedure for the month of June and assign those values into variables to `kumpula_june` and `rovaniemi_june`"
   ]
  },
  {
   "cell_type": "code",
   "execution_count": 7,
   "metadata": {
    "tags": []
   },
   "outputs": [
    {
     "data": {
      "text/html": [
       "<div>\n",
       "<style scoped>\n",
       "    .dataframe tbody tr th:only-of-type {\n",
       "        vertical-align: middle;\n",
       "    }\n",
       "\n",
       "    .dataframe tbody tr th {\n",
       "        vertical-align: top;\n",
       "    }\n",
       "\n",
       "    .dataframe thead th {\n",
       "        text-align: right;\n",
       "    }\n",
       "</style>\n",
       "<table border=\"1\" class=\"dataframe\">\n",
       "  <thead>\n",
       "    <tr style=\"text-align: right;\">\n",
       "      <th></th>\n",
       "      <th>Unnamed: 0</th>\n",
       "      <th>USAF</th>\n",
       "      <th>YR--MODAHRMN</th>\n",
       "      <th>TEMP</th>\n",
       "      <th>MAX</th>\n",
       "      <th>MIN</th>\n",
       "      <th>Celsius</th>\n",
       "    </tr>\n",
       "  </thead>\n",
       "  <tbody>\n",
       "    <tr>\n",
       "      <th>0</th>\n",
       "      <td>8770</td>\n",
       "      <td>29980</td>\n",
       "      <td>201705010000</td>\n",
       "      <td>37.0</td>\n",
       "      <td>NaN</td>\n",
       "      <td>NaN</td>\n",
       "      <td>3</td>\n",
       "    </tr>\n",
       "    <tr>\n",
       "      <th>1</th>\n",
       "      <td>8771</td>\n",
       "      <td>29980</td>\n",
       "      <td>201705010100</td>\n",
       "      <td>37.0</td>\n",
       "      <td>NaN</td>\n",
       "      <td>NaN</td>\n",
       "      <td>3</td>\n",
       "    </tr>\n",
       "    <tr>\n",
       "      <th>2</th>\n",
       "      <td>8772</td>\n",
       "      <td>29980</td>\n",
       "      <td>201705010200</td>\n",
       "      <td>37.0</td>\n",
       "      <td>NaN</td>\n",
       "      <td>NaN</td>\n",
       "      <td>3</td>\n",
       "    </tr>\n",
       "    <tr>\n",
       "      <th>3</th>\n",
       "      <td>8773</td>\n",
       "      <td>29980</td>\n",
       "      <td>201705010300</td>\n",
       "      <td>37.0</td>\n",
       "      <td>NaN</td>\n",
       "      <td>NaN</td>\n",
       "      <td>3</td>\n",
       "    </tr>\n",
       "    <tr>\n",
       "      <th>4</th>\n",
       "      <td>8774</td>\n",
       "      <td>29980</td>\n",
       "      <td>201705010400</td>\n",
       "      <td>39.0</td>\n",
       "      <td>NaN</td>\n",
       "      <td>NaN</td>\n",
       "      <td>4</td>\n",
       "    </tr>\n",
       "    <tr>\n",
       "      <th>...</th>\n",
       "      <td>...</td>\n",
       "      <td>...</td>\n",
       "      <td>...</td>\n",
       "      <td>...</td>\n",
       "      <td>...</td>\n",
       "      <td>...</td>\n",
       "      <td>...</td>\n",
       "    </tr>\n",
       "    <tr>\n",
       "      <th>736</th>\n",
       "      <td>9506</td>\n",
       "      <td>29980</td>\n",
       "      <td>201705311900</td>\n",
       "      <td>51.0</td>\n",
       "      <td>NaN</td>\n",
       "      <td>NaN</td>\n",
       "      <td>11</td>\n",
       "    </tr>\n",
       "    <tr>\n",
       "      <th>737</th>\n",
       "      <td>9507</td>\n",
       "      <td>29980</td>\n",
       "      <td>201705312000</td>\n",
       "      <td>50.0</td>\n",
       "      <td>NaN</td>\n",
       "      <td>NaN</td>\n",
       "      <td>10</td>\n",
       "    </tr>\n",
       "    <tr>\n",
       "      <th>738</th>\n",
       "      <td>9508</td>\n",
       "      <td>29980</td>\n",
       "      <td>201705312100</td>\n",
       "      <td>47.0</td>\n",
       "      <td>NaN</td>\n",
       "      <td>NaN</td>\n",
       "      <td>8</td>\n",
       "    </tr>\n",
       "    <tr>\n",
       "      <th>739</th>\n",
       "      <td>9509</td>\n",
       "      <td>29980</td>\n",
       "      <td>201705312200</td>\n",
       "      <td>44.0</td>\n",
       "      <td>NaN</td>\n",
       "      <td>NaN</td>\n",
       "      <td>7</td>\n",
       "    </tr>\n",
       "    <tr>\n",
       "      <th>740</th>\n",
       "      <td>9510</td>\n",
       "      <td>29980</td>\n",
       "      <td>201705312300</td>\n",
       "      <td>43.0</td>\n",
       "      <td>NaN</td>\n",
       "      <td>NaN</td>\n",
       "      <td>6</td>\n",
       "    </tr>\n",
       "  </tbody>\n",
       "</table>\n",
       "<p>741 rows × 7 columns</p>\n",
       "</div>"
      ],
      "text/plain": [
       "     Unnamed: 0   USAF  YR--MODAHRMN  TEMP  MAX  MIN  Celsius\n",
       "0          8770  29980  201705010000  37.0  NaN  NaN        3\n",
       "1          8771  29980  201705010100  37.0  NaN  NaN        3\n",
       "2          8772  29980  201705010200  37.0  NaN  NaN        3\n",
       "3          8773  29980  201705010300  37.0  NaN  NaN        3\n",
       "4          8774  29980  201705010400  39.0  NaN  NaN        4\n",
       "..          ...    ...           ...   ...  ...  ...      ...\n",
       "736        9506  29980  201705311900  51.0  NaN  NaN       11\n",
       "737        9507  29980  201705312000  50.0  NaN  NaN       10\n",
       "738        9508  29980  201705312100  47.0  NaN  NaN        8\n",
       "739        9509  29980  201705312200  44.0  NaN  NaN        7\n",
       "740        9510  29980  201705312300  43.0  NaN  NaN        6\n",
       "\n",
       "[741 rows x 7 columns]"
      ]
     },
     "execution_count": 7,
     "metadata": {},
     "output_type": "execute_result"
    }
   ],
   "source": [
    "#Testing the logic for May\n",
    "kumpula.loc[(kumpula[\"YR--MODAHRMN\"] >= 201705000000) & (kumpula[\"YR--MODAHRMN\"] < 201706000000)]"
   ]
  },
  {
   "cell_type": "code",
   "execution_count": 8,
   "metadata": {
    "tags": []
   },
   "outputs": [
    {
     "data": {
      "text/html": [
       "<div>\n",
       "<style scoped>\n",
       "    .dataframe tbody tr th:only-of-type {\n",
       "        vertical-align: middle;\n",
       "    }\n",
       "\n",
       "    .dataframe tbody tr th {\n",
       "        vertical-align: top;\n",
       "    }\n",
       "\n",
       "    .dataframe thead th {\n",
       "        text-align: right;\n",
       "    }\n",
       "</style>\n",
       "<table border=\"1\" class=\"dataframe\">\n",
       "  <thead>\n",
       "    <tr style=\"text-align: right;\">\n",
       "      <th></th>\n",
       "      <th>Unnamed: 0</th>\n",
       "      <th>USAF</th>\n",
       "      <th>YR--MODAHRMN</th>\n",
       "      <th>TEMP</th>\n",
       "      <th>MAX</th>\n",
       "      <th>MIN</th>\n",
       "      <th>Celsius</th>\n",
       "    </tr>\n",
       "  </thead>\n",
       "  <tbody>\n",
       "    <tr>\n",
       "      <th>741</th>\n",
       "      <td>9511</td>\n",
       "      <td>29980</td>\n",
       "      <td>201706010000</td>\n",
       "      <td>42.0</td>\n",
       "      <td>NaN</td>\n",
       "      <td>NaN</td>\n",
       "      <td>6</td>\n",
       "    </tr>\n",
       "    <tr>\n",
       "      <th>742</th>\n",
       "      <td>9512</td>\n",
       "      <td>29980</td>\n",
       "      <td>201706010100</td>\n",
       "      <td>40.0</td>\n",
       "      <td>NaN</td>\n",
       "      <td>NaN</td>\n",
       "      <td>4</td>\n",
       "    </tr>\n",
       "    <tr>\n",
       "      <th>743</th>\n",
       "      <td>9513</td>\n",
       "      <td>29980</td>\n",
       "      <td>201706010200</td>\n",
       "      <td>40.0</td>\n",
       "      <td>NaN</td>\n",
       "      <td>NaN</td>\n",
       "      <td>4</td>\n",
       "    </tr>\n",
       "    <tr>\n",
       "      <th>744</th>\n",
       "      <td>9514</td>\n",
       "      <td>29980</td>\n",
       "      <td>201706010300</td>\n",
       "      <td>41.0</td>\n",
       "      <td>NaN</td>\n",
       "      <td>NaN</td>\n",
       "      <td>5</td>\n",
       "    </tr>\n",
       "    <tr>\n",
       "      <th>745</th>\n",
       "      <td>9515</td>\n",
       "      <td>29980</td>\n",
       "      <td>201706010400</td>\n",
       "      <td>44.0</td>\n",
       "      <td>NaN</td>\n",
       "      <td>NaN</td>\n",
       "      <td>7</td>\n",
       "    </tr>\n",
       "    <tr>\n",
       "      <th>...</th>\n",
       "      <td>...</td>\n",
       "      <td>...</td>\n",
       "      <td>...</td>\n",
       "      <td>...</td>\n",
       "      <td>...</td>\n",
       "      <td>...</td>\n",
       "      <td>...</td>\n",
       "    </tr>\n",
       "    <tr>\n",
       "      <th>1450</th>\n",
       "      <td>10220</td>\n",
       "      <td>29980</td>\n",
       "      <td>201706301900</td>\n",
       "      <td>65.0</td>\n",
       "      <td>NaN</td>\n",
       "      <td>NaN</td>\n",
       "      <td>18</td>\n",
       "    </tr>\n",
       "    <tr>\n",
       "      <th>1451</th>\n",
       "      <td>10221</td>\n",
       "      <td>29980</td>\n",
       "      <td>201706302000</td>\n",
       "      <td>61.0</td>\n",
       "      <td>NaN</td>\n",
       "      <td>NaN</td>\n",
       "      <td>16</td>\n",
       "    </tr>\n",
       "    <tr>\n",
       "      <th>1452</th>\n",
       "      <td>10222</td>\n",
       "      <td>29980</td>\n",
       "      <td>201706302100</td>\n",
       "      <td>63.0</td>\n",
       "      <td>NaN</td>\n",
       "      <td>NaN</td>\n",
       "      <td>17</td>\n",
       "    </tr>\n",
       "    <tr>\n",
       "      <th>1453</th>\n",
       "      <td>10223</td>\n",
       "      <td>29980</td>\n",
       "      <td>201706302200</td>\n",
       "      <td>62.0</td>\n",
       "      <td>NaN</td>\n",
       "      <td>NaN</td>\n",
       "      <td>17</td>\n",
       "    </tr>\n",
       "    <tr>\n",
       "      <th>1454</th>\n",
       "      <td>10224</td>\n",
       "      <td>29980</td>\n",
       "      <td>201706302300</td>\n",
       "      <td>61.0</td>\n",
       "      <td>NaN</td>\n",
       "      <td>NaN</td>\n",
       "      <td>16</td>\n",
       "    </tr>\n",
       "  </tbody>\n",
       "</table>\n",
       "<p>714 rows × 7 columns</p>\n",
       "</div>"
      ],
      "text/plain": [
       "      Unnamed: 0   USAF  YR--MODAHRMN  TEMP  MAX  MIN  Celsius\n",
       "741         9511  29980  201706010000  42.0  NaN  NaN        6\n",
       "742         9512  29980  201706010100  40.0  NaN  NaN        4\n",
       "743         9513  29980  201706010200  40.0  NaN  NaN        4\n",
       "744         9514  29980  201706010300  41.0  NaN  NaN        5\n",
       "745         9515  29980  201706010400  44.0  NaN  NaN        7\n",
       "...          ...    ...           ...   ...  ...  ...      ...\n",
       "1450       10220  29980  201706301900  65.0  NaN  NaN       18\n",
       "1451       10221  29980  201706302000  61.0  NaN  NaN       16\n",
       "1452       10222  29980  201706302100  63.0  NaN  NaN       17\n",
       "1453       10223  29980  201706302200  62.0  NaN  NaN       17\n",
       "1454       10224  29980  201706302300  61.0  NaN  NaN       16\n",
       "\n",
       "[714 rows x 7 columns]"
      ]
     },
     "execution_count": 8,
     "metadata": {},
     "output_type": "execute_result"
    }
   ],
   "source": [
    "#Testing the logic for june\n",
    "kumpula.loc[(kumpula[\"YR--MODAHRMN\"] >= 201706000000) & (kumpula[\"YR--MODAHRMN\"] < 201707000000)]"
   ]
  },
  {
   "cell_type": "code",
   "execution_count": 9,
   "metadata": {
    "deletable": false,
    "nbgrader": {
     "cell_type": "code",
     "checksum": "e658e48c072ada99e4541860ebaf0095",
     "grade": false,
     "grade_id": "problem_3_ag_p3_may",
     "locked": false,
     "schema_version": 3,
     "solution": true
    },
    "tags": []
   },
   "outputs": [],
   "source": [
    "# Select the subset of the Kumpula and Rovaniemi data for the 5th and 6th month\n",
    "kumpula_may = kumpula.loc[(kumpula[\"YR--MODAHRMN\"] >= 201705000000) & (kumpula[\"YR--MODAHRMN\"] < 201706000000)]\n",
    "rovaniemi_may = rovaniemi.loc[(rovaniemi[\"YR--MODAHRMN\"] >= 201705000000) & (rovaniemi[\"YR--MODAHRMN\"] < 201706000000)]\n",
    "\n",
    "kumpula_june = kumpula.loc[(kumpula[\"YR--MODAHRMN\"] >= 201706000000) & (kumpula[\"YR--MODAHRMN\"] < 201707000000)]\n",
    "rovaniemi_june = rovaniemi.loc[(rovaniemi[\"YR--MODAHRMN\"] >= 201706000000) & (rovaniemi[\"YR--MODAHRMN\"] < 201707000000)]\n"
   ]
  },
  {
   "cell_type": "markdown",
   "metadata": {
    "deletable": false,
    "editable": false,
    "nbgrader": {
     "cell_type": "markdown",
     "checksum": "ced113a7a44f6c3bc88de58a3dc62056",
     "grade": false,
     "grade_id": "cell-c20a16ae3d1442cb",
     "locked": true,
     "schema_version": 3,
     "solution": false,
     "task": false
    }
   },
   "source": [
    "Check that the subsets look ok:"
   ]
  },
  {
   "cell_type": "code",
   "execution_count": 10,
   "metadata": {
    "deletable": false,
    "editable": false,
    "nbgrader": {
     "cell_type": "code",
     "checksum": "2b46b5ac73b0c1ecdec568ab8da5f07d",
     "grade": true,
     "grade_id": "problem_3_ag_p3_Kumpula_may_test",
     "locked": true,
     "points": 0.5,
     "schema_version": 3,
     "solution": false
    },
    "tags": []
   },
   "outputs": [
    {
     "name": "stdout",
     "output_type": "stream",
     "text": [
      "First values in May, Kumpula:\n",
      "   Unnamed: 0   USAF  YR--MODAHRMN  TEMP  MAX  MIN  Celsius\n",
      "0        8770  29980  201705010000  37.0  NaN  NaN        3\n",
      "1        8771  29980  201705010100  37.0  NaN  NaN        3\n",
      "2        8772  29980  201705010200  37.0  NaN  NaN        3\n",
      "3        8773  29980  201705010300  37.0  NaN  NaN        3\n",
      "4        8774  29980  201705010400  39.0  NaN  NaN        4\n",
      "\n",
      "Last values in May, Kumpula:\n",
      "     Unnamed: 0   USAF  YR--MODAHRMN  TEMP  MAX  MIN  Celsius\n",
      "736        9506  29980  201705311900  51.0  NaN  NaN       11\n",
      "737        9507  29980  201705312000  50.0  NaN  NaN       10\n",
      "738        9508  29980  201705312100  47.0  NaN  NaN        8\n",
      "739        9509  29980  201705312200  44.0  NaN  NaN        7\n",
      "740        9510  29980  201705312300  43.0  NaN  NaN        6\n"
     ]
    }
   ],
   "source": [
    "print(f\"First values in May, Kumpula:\\n{kumpula_may.head()}\\n\")\n",
    "print(f\"Last values in May, Kumpula:\\n{kumpula_may.tail()}\")"
   ]
  },
  {
   "cell_type": "code",
   "execution_count": 11,
   "metadata": {
    "deletable": false,
    "editable": false,
    "nbgrader": {
     "cell_type": "code",
     "checksum": "e4d83fa396f745a05cfd902c4107fc23",
     "grade": true,
     "grade_id": "problem_3_ag_p3_Kumpula_june_test",
     "locked": true,
     "points": 0.5,
     "schema_version": 3,
     "solution": false,
     "task": false
    },
    "tags": []
   },
   "outputs": [
    {
     "name": "stdout",
     "output_type": "stream",
     "text": [
      "First values in June, Kumpula:\n",
      "     Unnamed: 0   USAF  YR--MODAHRMN  TEMP  MAX  MIN  Celsius\n",
      "741        9511  29980  201706010000  42.0  NaN  NaN        6\n",
      "742        9512  29980  201706010100  40.0  NaN  NaN        4\n",
      "743        9513  29980  201706010200  40.0  NaN  NaN        4\n",
      "744        9514  29980  201706010300  41.0  NaN  NaN        5\n",
      "745        9515  29980  201706010400  44.0  NaN  NaN        7\n",
      "\n",
      "Last values in June, Kumpula:\n",
      "      Unnamed: 0   USAF  YR--MODAHRMN  TEMP  MAX  MIN  Celsius\n",
      "1450       10220  29980  201706301900  65.0  NaN  NaN       18\n",
      "1451       10221  29980  201706302000  61.0  NaN  NaN       16\n",
      "1452       10222  29980  201706302100  63.0  NaN  NaN       17\n",
      "1453       10223  29980  201706302200  62.0  NaN  NaN       17\n",
      "1454       10224  29980  201706302300  61.0  NaN  NaN       16\n"
     ]
    }
   ],
   "source": [
    "print(f\"First values in June, Kumpula:\\n{kumpula_june.head()}\\n\")\n",
    "print(f\"Last values in June, Kumpula:\\n{kumpula_june.tail()}\")"
   ]
  },
  {
   "cell_type": "code",
   "execution_count": 12,
   "metadata": {
    "deletable": false,
    "editable": false,
    "nbgrader": {
     "cell_type": "code",
     "checksum": "227099ba97029cbeb597834860f637b2",
     "grade": true,
     "grade_id": "problem_3_ag_p3_Rovaniemi_may_test",
     "locked": true,
     "points": 0.5,
     "schema_version": 3,
     "solution": false
    },
    "tags": []
   },
   "outputs": [
    {
     "name": "stdout",
     "output_type": "stream",
     "text": [
      "First values in May, Rovaniemi:\n",
      "   Unnamed: 0   USAF  YR--MODAHRMN  TEMP  MAX  MIN  Celsius\n",
      "0           0  28450  201705010000  31.0  NaN  NaN       -1\n",
      "1           1  28450  201705010020  30.0  NaN  NaN       -1\n",
      "2           2  28450  201705010050  30.0  NaN  NaN       -1\n",
      "3           3  28450  201705010100  31.0  NaN  NaN       -1\n",
      "4           4  28450  201705010120  30.0  NaN  NaN       -1\n",
      "\n",
      "Last values in May, Rovaniemi:\n",
      "      Unnamed: 0   USAF  YR--MODAHRMN  TEMP  MAX  MIN  Celsius\n",
      "2215        2217  28450  201705312220  32.0  NaN  NaN        0\n",
      "2216        2218  28450  201705312250  32.0  NaN  NaN        0\n",
      "2217        2219  28450  201705312300  33.0  NaN  NaN        1\n",
      "2218        2220  28450  201705312320  32.0  NaN  NaN        0\n",
      "2219        2221  28450  201705312350  30.0  NaN  NaN       -1\n"
     ]
    }
   ],
   "source": [
    "print(f\"First values in May, Rovaniemi:\\n{rovaniemi_may.head()}\\n\")\n",
    "print(f\"Last values in May, Rovaniemi:\\n{rovaniemi_may.tail()}\")"
   ]
  },
  {
   "cell_type": "code",
   "execution_count": 13,
   "metadata": {
    "deletable": false,
    "editable": false,
    "nbgrader": {
     "cell_type": "code",
     "checksum": "b1479509bbe424439169f91d57fa1c54",
     "grade": true,
     "grade_id": "problem_3_ag_p3_Rovaniemi_june_test",
     "locked": true,
     "points": 0.5,
     "schema_version": 3,
     "solution": false,
     "task": false
    },
    "tags": []
   },
   "outputs": [
    {
     "name": "stdout",
     "output_type": "stream",
     "text": [
      "First values in June, Rovaniemi:\n",
      "      Unnamed: 0   USAF  YR--MODAHRMN  TEMP  MAX  MIN  Celsius\n",
      "2220        2222  28450  201706010000  32.0  NaN  NaN        0\n",
      "2221        2223  28450  201706010020  30.0  NaN  NaN       -1\n",
      "2222        2224  28450  201706010050  30.0  NaN  NaN       -1\n",
      "2223        2225  28450  201706010100  31.0  NaN  NaN       -1\n",
      "2224        2226  28450  201706010120  30.0  NaN  NaN       -1\n",
      "\n",
      "Last values in June, Rovaniemi:\n",
      "      Unnamed: 0   USAF  YR--MODAHRMN  TEMP  MAX  MIN  Celsius\n",
      "4342        4344  28450  201706302220  57.0  NaN  NaN       14\n",
      "4343        4345  28450  201706302250  57.0  NaN  NaN       14\n",
      "4344        4346  28450  201706302300  56.0  NaN  NaN       13\n",
      "4345        4347  28450  201706302320  57.0  NaN  NaN       14\n",
      "4346        4348  28450  201706302350  57.0  NaN  NaN       14\n"
     ]
    }
   ],
   "source": [
    "print(f\"First values in June, Rovaniemi:\\n{rovaniemi_june.head()}\\n\")\n",
    "print(f\"Last values in June, Rovaniemi:\\n{rovaniemi_june.tail()}\")"
   ]
  },
  {
   "cell_type": "markdown",
   "metadata": {
    "deletable": false,
    "editable": false,
    "nbgrader": {
     "cell_type": "markdown",
     "checksum": "a65a68a4bf3075ccc9de3bb5ce5266c1",
     "grade": false,
     "grade_id": "cell-5d735e872f16ccd5",
     "locked": true,
     "schema_version": 3,
     "solution": false,
     "task": false
    }
   },
   "source": [
    "### Part 4 (1 point)\n",
    "\n",
    "Now you can make your temperature data from both locations and months easier to compare by printing out a few useful values.\n",
    "\n",
    "- Use the `print()` function to show the mean, min and max Celsius temperatures for both places in May and June using the new subset dataframes (`kumpula_may`, `rovaniemi_may`, `kumpula_june`, and `rovaniemi_june`)."
   ]
  },
  {
   "cell_type": "code",
   "execution_count": 20,
   "metadata": {
    "tags": []
   },
   "outputs": [],
   "source": [
    "# Variables to store mean, min and max temperatures for Kumpula and Rovaniemi\n",
    "kumpula_may_mean = kumpula_may[\"Celsius\"].mean()\n",
    "kumpula_may_min = kumpula_may[\"Celsius\"].min()\n",
    "kumpula_may_max = kumpula_may[\"Celsius\"].max()\n",
    "\n",
    "kumpula_june_mean = kumpula_june[\"Celsius\"].mean()\n",
    "kumpula_june_min = kumpula_june[\"Celsius\"].min()\n",
    "kumpula_june_max = kumpula_june[\"Celsius\"].max()\n",
    "\n",
    "\n",
    "rovaniemi_may_mean = rovaniemi_may[\"Celsius\"].mean()\n",
    "rovaniemi_may_min = rovaniemi_may[\"Celsius\"].min()\n",
    "rovaniemi_may_max = rovaniemi_may[\"Celsius\"].max()\n",
    "\n",
    "rovaniemi_june_mean = rovaniemi_june[\"Celsius\"].mean()\n",
    "rovaniemi_june_min = rovaniemi_june[\"Celsius\"].min()\n",
    "rovaniemi_june_max = rovaniemi_june[\"Celsius\"].max()"
   ]
  },
  {
   "cell_type": "code",
   "execution_count": 23,
   "metadata": {
    "deletable": false,
    "nbgrader": {
     "cell_type": "code",
     "checksum": "12a6c95dd173d219530d35b72f81490f",
     "grade": true,
     "grade_id": "problem_3_mg_p4_May_and_June_stats",
     "locked": false,
     "points": 1,
     "schema_version": 3,
     "solution": true
    },
    "tags": []
   },
   "outputs": [
    {
     "name": "stdout",
     "output_type": "stream",
     "text": [
      "The mean temperature in Kumpula in May was 9.8C, the lowest temperature was -2C and the highest temperature was 23C\n",
      "In June the mean, minimum and maximum temperatures were 13.7C, 3C and 24C respectively\n",
      "The mean temperature in Rovaniemi in May was 3.0C, the lowest temperature was -7C and the highest temperature was 15C\n",
      "In June the mean, minimum and maximum temperatures were 11.0C, -1C and 23C respectively\n"
     ]
    }
   ],
   "source": [
    "# NB: Print statements of mean to 2 decimal places\n",
    "print(f\"The mean temperature in Kumpula in May was {kumpula_may_mean:.1f}C, the lowest temperature was {kumpula_may_min}C and the highest temperature was {kumpula_may_max}C\")\n",
    "print(f\"In June the mean, minimum and maximum temperatures were {kumpula_june_mean:.1f}C, {kumpula_june_min}C and {kumpula_june_max}C respectively\")\n",
    "\n",
    "print(f\"The mean temperature in Rovaniemi in May was {rovaniemi_may_mean:.1f}C, the lowest temperature was {rovaniemi_may_min}C and the highest temperature was {rovaniemi_may_max}C\")\n",
    "print(f\"In June the mean, minimum and maximum temperatures were {rovaniemi_june_mean:.1f}C, {rovaniemi_june_min}C and {rovaniemi_june_max}C respectively\")"
   ]
  },
  {
   "cell_type": "markdown",
   "metadata": {
    "deletable": false,
    "editable": false,
    "nbgrader": {
     "cell_type": "markdown",
     "checksum": "c19a758e3ace532979854894a73433a0",
     "grade": false,
     "grade_id": "comments",
     "locked": true,
     "schema_version": 3,
     "solution": false
    }
   },
   "source": [
    "### Problem 3 summary\n",
    "\n",
    "In the spirit of [knowledge discovery](http://researcher.ibm.com/researcher/view_group.php?id=144), let's briefly interpret the results of the data analysis in Problem 3. Please answer the following questions based on the data analysis results from this problem:\n",
    "\n",
    "- Does there seem to be a large difference in temperatures between the months?\n",
    "- Is Rovaniemi a much colder place than Kumpula?\n",
    "\n",
    "Also, be sure to:\n",
    "\n",
    "- Check that your code includes informative comments explaining what your code does\n",
    "- Commit and push your changes to your GitHub repository for Exercise 5"
   ]
  },
  {
   "cell_type": "markdown",
   "metadata": {
    "deletable": false,
    "nbgrader": {
     "cell_type": "markdown",
     "checksum": "1f0848d8fe16e12f1951ccdd1b5edf83",
     "grade": true,
     "grade_id": "problem_3_mg_p5_questions",
     "locked": false,
     "points": 0,
     "schema_version": 3,
     "solution": true,
     "task": false
    }
   },
   "source": [
    "- There is a sizeable range in monthly temperatures. For both Kumpula and Rovaniemi the range is above 20C. \n",
    "- Rovaniemi is a colder place on average than Kumpulla. "
   ]
  },
  {
   "cell_type": "markdown",
   "metadata": {
    "deletable": false,
    "editable": false,
    "nbgrader": {
     "cell_type": "markdown",
     "checksum": "0e5f52b74f4ffaea57ca77ace2732647",
     "grade": false,
     "grade_id": "text",
     "locked": true,
     "schema_version": 3,
     "solution": false
    }
   },
   "source": [
    "### On to Problem 4 (*optional*)\n",
    "\n",
    "Now you can continue to the *optional* [Problem 4: Data analysis](Exercise-5-problem-4.ipynb)"
   ]
  }
 ],
 "metadata": {
  "anaconda-cloud": {},
  "kernelspec": {
   "display_name": "Python 3 (ipykernel)",
   "language": "python",
   "name": "python3"
  },
  "language_info": {
   "codemirror_mode": {
    "name": "ipython",
    "version": 3
   },
   "file_extension": ".py",
   "mimetype": "text/x-python",
   "name": "python",
   "nbconvert_exporter": "python",
   "pygments_lexer": "ipython3",
   "version": "3.10.3"
  }
 },
 "nbformat": 4,
 "nbformat_minor": 4
}
